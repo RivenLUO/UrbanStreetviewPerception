{
 "cells": [
  {
   "cell_type": "markdown",
   "source": [
    "# Import libraries"
   ],
   "metadata": {
    "collapsed": false
   }
  },
  {
   "cell_type": "code",
   "execution_count": null,
   "outputs": [],
   "source": [
    "import os\n",
    "import numpy as np\n",
    "\n",
    "from keras import callbacks\n",
    "import keras_tuner as kt\n",
    "\n",
    "from source_codes.data_aug import data_aug_with_random_contrast\n",
    "from source_codes.ranking_model_prob import create_meta_network"
   ],
   "metadata": {
    "collapsed": false
   }
  },
  {
   "cell_type": "markdown",
   "source": [
    "# Prepare data"
   ],
   "metadata": {
    "collapsed": false
   }
  },
  {
   "cell_type": "code",
   "execution_count": null,
   "outputs": [],
   "source": [
    "# Configure question index\n",
    "question_index = str(1)\n",
    "\n",
    "# Load training data\n",
    "training_data_path = os.path.join('data/datasets/train_data/draw_exclude')\n",
    "img_left_training = np.load(os.path.join(training_data_path + '/train_left_duel_' + question_index + '.npy'), allow_pickle=True)\n",
    "img_right_training = np.load(os.path.join(training_data_path + '/train_right_duel_' + question_index + '.npy'), allow_pickle=True)\n",
    "label_training = np.load(os.path.join(training_data_path + '/train_label_duel_' + question_index + '.npy'), allow_pickle=True)\n",
    "\n",
    "# Load validation data\n",
    "validation_data_path = os.path.join('data/datasets/validation_data/draw_exclude')\n",
    "img_left_validation = np.load(os.path.join(validation_data_path + '/val_left_duel_' + question_index + '.npy'), allow_pickle=True)\n",
    "img_right_validation = np.load(os.path.join(validation_data_path + '/val_right_duel_' + question_index + '.npy'), allow_pickle=True)\n",
    "label_validation = np.load(os.path.join(validation_data_path + '/val_label_duel_' + question_index + '.npy'), allow_pickle=True)\n",
    "\n",
    "# Load test data\n",
    "test_data_path = os.path.join('data/datasets/test_data/draw_exclude')\n",
    "img_left_test = np.load(os.path.join(test_data_path + '/test_left_duel_' + question_index + '.npy'), allow_pickle=True)\n",
    "img_right_test = np.load(os.path.join(test_data_path + '/test_right_duel_' + question_index + '.npy'), allow_pickle=True)\n",
    "label_test = np.load(os.path.join(test_data_path + '/test_label_duel_' + question_index + '.npy'), allow_pickle=True)"
   ],
   "metadata": {
    "collapsed": false
   }
  },
  {
   "cell_type": "markdown",
   "source": [
    "## Augment data with random contrast\n",
    "*This is a data augmentation method that raised by Hannick. It helps to improve the model performance.*\n",
    "[Hannick's GitHub](https://github.com/Hannick5/UrbanPerception)"
   ],
   "metadata": {
    "collapsed": false
   }
  },
  {
   "cell_type": "code",
   "execution_count": null,
   "outputs": [],
   "source": [
    "img_left_training,img_right_training,label_training = data_aug_with_random_contrast(img_left_training,img_right_training, label_training)"
   ],
   "metadata": {
    "collapsed": false
   }
  },
  {
   "cell_type": "markdown",
   "source": [
    "# Define hptuning model"
   ],
   "metadata": {
    "collapsed": false
   }
  },
  {
   "cell_type": "code",
   "execution_count": 1,
   "outputs": [],
   "source": [
    "# Define model for hyperparameters tuning\n",
    "hp = kt.HyperParameters()\n",
    "hptuning_ranking_model = create_meta_network(\n",
    "    dense_units=hp.Choice('dense_units', values=[32, 64, 128, 256, 512]),\n",
    "    dropout_rate=hp.Float('dropout_rate', min_value=0.0, max_value=0.6, step=0.2),\n",
    "    learning_rate=hp.Choice('learning_rate', values=[1e-4, 1e-5, 1e-6]),\n",
    "    optimizer=hp.Choice('optimizer', values=['adam', 'rmsprop', 'sgd']),\n",
    "    activation=hp.Choice('activation', values=['relu', 'tanh', 'sigmoid']),\n",
    "    learning_rate_decay=hp.Choice('learning_rate_decay', values=[1e-3, 1e-4, 1e-5]),\n",
    "    img_size=224,\n",
    "    data_aug=True,\n",
    "    weights=None\n",
    ")\n",
    "\n",
    "# Adopt Bayesian optimization\n",
    "tuner = kt.BayesianOptimization(\n",
    "    hptuning_ranking_model,\n",
    "    objective=['val_loss', 'val_accuracy'],\n",
    "    max_trials=20,\n",
    "    executions_per_trial=4,\n",
    "    overwrite=False,\n",
    "    directory='model_results/Q2/hp_tuning',\n",
    "    project_name=\"hptuning_ranking_230521\",\n",
    ")"
   ],
   "metadata": {
    "collapsed": false,
    "ExecuteTime": {
     "end_time": "2023-07-23T11:05:45.996262300Z",
     "start_time": "2023-07-23T11:05:45.984261300Z"
    }
   }
  },
  {
   "cell_type": "markdown",
   "source": [
    "# Tune hyperparameters"
   ],
   "metadata": {
    "collapsed": false
   }
  },
  {
   "cell_type": "code",
   "execution_count": null,
   "outputs": [],
   "source": [
    "# Employ early stopping to prevent overfitting\n",
    "early_stopping = callbacks.EarlyStopping(\n",
    "    monitor=\"val_loss\",\n",
    "    patience=10,\n",
    "    mode='min',\n",
    "    restore_best_weights=True\n",
    ")\n",
    "\n",
    "# Tune hyperparameters\n",
    "tuner.search(\n",
    "    x=[img_left_training, img_right_training],\n",
    "    y=label_training,\n",
    "    epochs=50,\n",
    "    batch_size=32,\n",
    "    validation_data=([img_left_validation, img_right_validation], label_validation),\n",
    "    callbacks=[early_stopping]\n",
    ")"
   ],
   "metadata": {
    "collapsed": false
   }
  },
  {
   "cell_type": "markdown",
   "source": [
    "# Obtain hptuning results"
   ],
   "metadata": {
    "collapsed": false
   }
  },
  {
   "cell_type": "code",
   "execution_count": null,
   "outputs": [],
   "source": [
    "# Display the tuning process summary\n",
    "tuner.results_summary()"
   ],
   "metadata": {
    "collapsed": false
   }
  },
  {
   "cell_type": "code",
   "execution_count": null,
   "outputs": [],
   "source": [
    "# Save the best five hptuned model architectures\n",
    "best_hps = tuner.get_best_hyperparameters(5)\n",
    "save_dir = \"model_results/Q2/hp_tuning/hptuning_ranking_230521\"\n",
    "for i in range(len(best_hps)):\n",
    "    model = hptuning_ranking_model(best_hps[i])\n",
    "    model.save(os.path.join(save_dir, 'best_model_' + str(i) + '_architecture.h5'))"
   ],
   "metadata": {
    "collapsed": false
   }
  }
 ],
 "metadata": {
  "kernelspec": {
   "display_name": "Python 3",
   "language": "python",
   "name": "python3"
  },
  "language_info": {
   "codemirror_mode": {
    "name": "ipython",
    "version": 2
   },
   "file_extension": ".py",
   "mimetype": "text/x-python",
   "name": "python",
   "nbconvert_exporter": "python",
   "pygments_lexer": "ipython2",
   "version": "2.7.6"
  }
 },
 "nbformat": 4,
 "nbformat_minor": 0
}
