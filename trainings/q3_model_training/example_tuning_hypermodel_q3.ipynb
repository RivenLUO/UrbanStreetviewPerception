{
 "cells": [
  {
   "cell_type": "code",
   "execution_count": 1,
   "outputs": [
    {
     "name": "stdout",
     "output_type": "stream",
     "text": [
      "Using TensorFlow backend\n"
     ]
    }
   ],
   "source": [
    "import sys\n",
    "import os\n",
    "\n",
    "sys.path.append('../../')\n",
    "\n",
    "import keras_tuner as kt\n",
    "from keras.callbacks import EarlyStopping\n",
    "from src.dataset import *\n",
    "from src.hypermodels import *\n",
    "from src.utils import *\n",
    "import keras.backend as K\n",
    "from keras.optimizers import Adam, SGD, RMSprop"
   ],
   "metadata": {
    "collapsed": false,
    "ExecuteTime": {
     "end_time": "2023-10-11T00:15:40.829322700Z",
     "start_time": "2023-10-11T00:15:38.314387400Z"
    }
   },
   "id": "initial_id"
  },
  {
   "cell_type": "markdown",
   "source": [
    "# Define Hyperparams Search Space"
   ],
   "metadata": {
    "collapsed": false
   },
   "id": "72b24d07ac0e02b4"
  },
  {
   "cell_type": "code",
   "execution_count": 2,
   "outputs": [
    {
     "name": "stdout",
     "output_type": "stream",
     "text": [
      "WARNING:tensorflow:Using a while_loop for converting RngReadAndSkip cause there is no registered converter for this op.\n",
      "WARNING:tensorflow:Using a while_loop for converting Bitcast cause there is no registered converter for this op.\n",
      "WARNING:tensorflow:Using a while_loop for converting Bitcast cause there is no registered converter for this op.\n",
      "WARNING:tensorflow:Using a while_loop for converting StatelessRandomUniformV2 cause there is no registered converter for this op.\n",
      "WARNING:tensorflow:Using a while_loop for converting ImageProjectiveTransformV3 cause there is no registered converter for this op.\n",
      "WARNING:tensorflow:Using a while_loop for converting RngReadAndSkip cause there is no registered converter for this op.\n",
      "WARNING:tensorflow:Using a while_loop for converting Bitcast cause there is no registered converter for this op.\n",
      "WARNING:tensorflow:Using a while_loop for converting Bitcast cause there is no registered converter for this op.\n",
      "WARNING:tensorflow:Using a while_loop for converting StatelessRandomUniformFullIntV2 cause there is no registered converter for this op.\n",
      "WARNING:tensorflow:Using a while_loop for converting StatelessRandomGetKeyCounter cause there is no registered converter for this op.\n",
      "WARNING:tensorflow:Using a while_loop for converting StatelessRandomUniformV2 cause there is no registered converter for this op.\n",
      "WARNING:tensorflow:Using a while_loop for converting AdjustContrastv2 cause Input \"contrast_factor\" of op 'AdjustContrastv2' expected to be loop invariant.\n",
      "WARNING:tensorflow:Using a while_loop for converting RngReadAndSkip cause there is no registered converter for this op.\n",
      "WARNING:tensorflow:Using a while_loop for converting Bitcast cause there is no registered converter for this op.\n",
      "WARNING:tensorflow:Using a while_loop for converting Bitcast cause there is no registered converter for this op.\n",
      "WARNING:tensorflow:Using a while_loop for converting StatelessRandomUniformV2 cause there is no registered converter for this op.\n",
      "WARNING:tensorflow:Using a while_loop for converting RngReadAndSkip cause there is no registered converter for this op.\n",
      "WARNING:tensorflow:Using a while_loop for converting Bitcast cause there is no registered converter for this op.\n",
      "WARNING:tensorflow:Using a while_loop for converting Bitcast cause there is no registered converter for this op.\n",
      "WARNING:tensorflow:Using a while_loop for converting StatelessRandomUniformV2 cause there is no registered converter for this op.\n",
      "WARNING:tensorflow:Using a while_loop for converting ImageProjectiveTransformV3 cause there is no registered converter for this op.\n",
      "WARNING:tensorflow:Using a while_loop for converting RngReadAndSkip cause there is no registered converter for this op.\n",
      "WARNING:tensorflow:Using a while_loop for converting Bitcast cause there is no registered converter for this op.\n",
      "WARNING:tensorflow:Using a while_loop for converting Bitcast cause there is no registered converter for this op.\n",
      "WARNING:tensorflow:Using a while_loop for converting StatelessRandomUniformV2 cause there is no registered converter for this op.\n",
      "WARNING:tensorflow:Using a while_loop for converting RngReadAndSkip cause there is no registered converter for this op.\n",
      "WARNING:tensorflow:Using a while_loop for converting Bitcast cause there is no registered converter for this op.\n",
      "WARNING:tensorflow:Using a while_loop for converting Bitcast cause there is no registered converter for this op.\n",
      "WARNING:tensorflow:Using a while_loop for converting StatelessRandomUniformV2 cause there is no registered converter for this op.\n",
      "WARNING:tensorflow:Using a while_loop for converting ImageProjectiveTransformV3 cause there is no registered converter for this op.\n",
      "WARNING:tensorflow:Using a while_loop for converting RngReadAndSkip cause there is no registered converter for this op.\n",
      "WARNING:tensorflow:Using a while_loop for converting Bitcast cause there is no registered converter for this op.\n",
      "WARNING:tensorflow:Using a while_loop for converting Bitcast cause there is no registered converter for this op.\n",
      "WARNING:tensorflow:Using a while_loop for converting StatelessRandomUniformFullIntV2 cause there is no registered converter for this op.\n",
      "WARNING:tensorflow:Using a while_loop for converting StatelessRandomGetKeyCounter cause there is no registered converter for this op.\n",
      "WARNING:tensorflow:Using a while_loop for converting StatelessRandomUniformV2 cause there is no registered converter for this op.\n",
      "WARNING:tensorflow:Using a while_loop for converting AdjustContrastv2 cause Input \"contrast_factor\" of op 'AdjustContrastv2' expected to be loop invariant.\n",
      "WARNING:tensorflow:Using a while_loop for converting RngReadAndSkip cause there is no registered converter for this op.\n",
      "WARNING:tensorflow:Using a while_loop for converting Bitcast cause there is no registered converter for this op.\n",
      "WARNING:tensorflow:Using a while_loop for converting Bitcast cause there is no registered converter for this op.\n",
      "WARNING:tensorflow:Using a while_loop for converting StatelessRandomUniformV2 cause there is no registered converter for this op.\n",
      "WARNING:tensorflow:Using a while_loop for converting RngReadAndSkip cause there is no registered converter for this op.\n",
      "WARNING:tensorflow:Using a while_loop for converting Bitcast cause there is no registered converter for this op.\n",
      "WARNING:tensorflow:Using a while_loop for converting Bitcast cause there is no registered converter for this op.\n",
      "WARNING:tensorflow:Using a while_loop for converting StatelessRandomUniformV2 cause there is no registered converter for this op.\n",
      "WARNING:tensorflow:Using a while_loop for converting ImageProjectiveTransformV3 cause there is no registered converter for this op.\n",
      "WARNING:tensorflow:Using a while_loop for converting RngReadAndSkip cause there is no registered converter for this op.\n",
      "WARNING:tensorflow:Using a while_loop for converting Bitcast cause there is no registered converter for this op.\n",
      "WARNING:tensorflow:Using a while_loop for converting Bitcast cause there is no registered converter for this op.\n",
      "WARNING:tensorflow:Using a while_loop for converting StatelessRandomUniformV2 cause there is no registered converter for this op.\n",
      "WARNING:tensorflow:Using a while_loop for converting RngReadAndSkip cause there is no registered converter for this op.\n",
      "WARNING:tensorflow:Using a while_loop for converting Bitcast cause there is no registered converter for this op.\n",
      "WARNING:tensorflow:Using a while_loop for converting Bitcast cause there is no registered converter for this op.\n",
      "WARNING:tensorflow:Using a while_loop for converting StatelessRandomUniformV2 cause there is no registered converter for this op.\n",
      "WARNING:tensorflow:Using a while_loop for converting ImageProjectiveTransformV3 cause there is no registered converter for this op.\n",
      "WARNING:tensorflow:Using a while_loop for converting RngReadAndSkip cause there is no registered converter for this op.\n",
      "WARNING:tensorflow:Using a while_loop for converting Bitcast cause there is no registered converter for this op.\n",
      "WARNING:tensorflow:Using a while_loop for converting Bitcast cause there is no registered converter for this op.\n",
      "WARNING:tensorflow:Using a while_loop for converting StatelessRandomUniformFullIntV2 cause there is no registered converter for this op.\n",
      "WARNING:tensorflow:Using a while_loop for converting StatelessRandomGetKeyCounter cause there is no registered converter for this op.\n",
      "WARNING:tensorflow:Using a while_loop for converting StatelessRandomUniformV2 cause there is no registered converter for this op.\n",
      "WARNING:tensorflow:Using a while_loop for converting AdjustContrastv2 cause Input \"contrast_factor\" of op 'AdjustContrastv2' expected to be loop invariant.\n",
      "WARNING:tensorflow:Using a while_loop for converting RngReadAndSkip cause there is no registered converter for this op.\n",
      "WARNING:tensorflow:Using a while_loop for converting Bitcast cause there is no registered converter for this op.\n",
      "WARNING:tensorflow:Using a while_loop for converting Bitcast cause there is no registered converter for this op.\n",
      "WARNING:tensorflow:Using a while_loop for converting StatelessRandomUniformV2 cause there is no registered converter for this op.\n",
      "WARNING:tensorflow:Using a while_loop for converting RngReadAndSkip cause there is no registered converter for this op.\n",
      "WARNING:tensorflow:Using a while_loop for converting Bitcast cause there is no registered converter for this op.\n",
      "WARNING:tensorflow:Using a while_loop for converting Bitcast cause there is no registered converter for this op.\n",
      "WARNING:tensorflow:Using a while_loop for converting StatelessRandomUniformV2 cause there is no registered converter for this op.\n",
      "WARNING:tensorflow:Using a while_loop for converting ImageProjectiveTransformV3 cause there is no registered converter for this op.\n",
      "WARNING:tensorflow:Using a while_loop for converting RngReadAndSkip cause there is no registered converter for this op.\n",
      "WARNING:tensorflow:Using a while_loop for converting Bitcast cause there is no registered converter for this op.\n",
      "WARNING:tensorflow:Using a while_loop for converting Bitcast cause there is no registered converter for this op.\n",
      "WARNING:tensorflow:Using a while_loop for converting StatelessRandomUniformV2 cause there is no registered converter for this op.\n"
     ]
    },
    {
     "data": {
      "text/plain": "<keras.engine.functional.Functional at 0x18263b5b190>"
     },
     "execution_count": 2,
     "metadata": {},
     "output_type": "execute_result"
    }
   ],
   "source": [
    "def build_model(hp):\n",
    "    # Hyperparameters of model architecture\n",
    "    img_size = 224 # VGG19 input size\n",
    "    \n",
    "    feature_extractor = hp.Fixed('feature_extractor', value='vgg19')\n",
    "    \n",
    "    num_dense_layers = hp.Int('num_dense_layers', min_value=2, max_value=4, step=1, default=2)\n",
    "    dense_units_list = [hp.Int(f'dense_units_{i + 1}', min_value=16, max_value=96, step=16, default=64)\n",
    "                        for i in range(num_dense_layers)]\n",
    "    dense_activation_list = [hp.Choice(f'dense_activation_{i + 1}', values=['relu', 'tanh', 'linear','sigmoid'],default='relu')\n",
    "                             for i in range(num_dense_layers)]\n",
    "    dropout_rate_list = [hp.Float(f'dropout_rate_{i + 1}', min_value=0.3, max_value=0.6, step=0.1, default=0.4)\n",
    "                         for i in range(num_dense_layers)]\n",
    "    ranking_score_activation = hp.Choice('ranking_score_activation', values=['tanh', 'linear'])\n",
    "    unfreeze_layers = hp.Int('unfreeze_layers', min_value=0, max_value=4, step=1, default=4)\n",
    "    final_activation = hp.Fixed('final_activation', value='sigmoid')\n",
    "    \n",
    "\n",
    "    image_preprocessing_layers = Sequential(\n",
    "        [\n",
    "            layers.Resizing(height=img_size, width=img_size),\n",
    "            layers.Rescaling(scale=1. / 255)\n",
    "        ],\n",
    "        name='image_preprocessing'\n",
    "    )\n",
    "\n",
    "    image_augmentation_layers = Sequential(\n",
    "        [\n",
    "            layers.RandomRotation(factor=0.2),\n",
    "            layers.RandomFlip(),\n",
    "            layers.RandomContrast(factor=0.4),\n",
    "            layers.RandomZoom(height_factor=0.3, width_factor=0.3),\n",
    "            layers.RandomBrightness(factor=0.4)\n",
    "        ],  \n",
    "        name='image_augmentation'\n",
    "    )\n",
    "    \n",
    "\n",
    "    # Build the model\n",
    "    meta_model = create_siamese_network(\n",
    "        img_size, image_preprocessing_layers, image_augmentation_layers,\n",
    "        feature_extractor, num_dense_layers, dense_units_list, dense_activation_list,\n",
    "        dropout_rate_list,\n",
    "        ranking_score_activation, final_activation,\n",
    "        pretrained_weights='imagenet',\n",
    "        unfreeze_layers=unfreeze_layers,\n",
    "    )\n",
    "\n",
    "    # Hyperparameters of model training\n",
    "    optimizers = {\n",
    "        'adam': Adam(learning_rate=hp.Choice('learning_rate', values=[1e-5, 1e-4])),\n",
    "        'rmsprop': RMSprop(learning_rate=hp.Choice('learning_rate', values=[1e-5, 1e-4]))\n",
    "    }\n",
    "\n",
    "    meta_model.compile(optimizer=optimizers[hp.Choice('optimizer', values=['adam', 'rmsprop'])],\n",
    "                       loss='binary_crossentropy',\n",
    "                       metrics=['accuracy'])\n",
    "\n",
    "    return meta_model\n",
    "\n",
    "build_model(kt.HyperParameters())"
   ],
   "metadata": {
    "collapsed": false,
    "ExecuteTime": {
     "end_time": "2023-10-11T00:15:57.634664800Z",
     "start_time": "2023-10-11T00:15:40.830515700Z"
    }
   },
   "id": "a7bd94b407d49ad2"
  },
  {
   "cell_type": "markdown",
   "source": [
    "# Define Tuner"
   ],
   "metadata": {
    "collapsed": false
   },
   "id": "3054ff5a53f896c0"
  },
  {
   "cell_type": "code",
   "execution_count": 3,
   "outputs": [
    {
     "name": "stdout",
     "output_type": "stream",
     "text": [
      "data_shuffle_seed:  2310102015\n",
      "Search space summary\n",
      "Default search space size: 13\n",
      "feature_extractor (Fixed)\n",
      "{'conditions': [], 'value': 'vgg19'}\n",
      "num_dense_layers (Int)\n",
      "{'default': 2, 'conditions': [], 'min_value': 2, 'max_value': 4, 'step': 1, 'sampling': 'linear'}\n",
      "dense_units_1 (Int)\n",
      "{'default': 64, 'conditions': [], 'min_value': 16, 'max_value': 96, 'step': 16, 'sampling': 'linear'}\n",
      "dense_units_2 (Int)\n",
      "{'default': 64, 'conditions': [], 'min_value': 16, 'max_value': 96, 'step': 16, 'sampling': 'linear'}\n",
      "dense_activation_1 (Choice)\n",
      "{'default': 'relu', 'conditions': [], 'values': ['relu', 'tanh', 'linear', 'sigmoid'], 'ordered': False}\n",
      "dense_activation_2 (Choice)\n",
      "{'default': 'relu', 'conditions': [], 'values': ['relu', 'tanh', 'linear', 'sigmoid'], 'ordered': False}\n",
      "dropout_rate_1 (Float)\n",
      "{'default': 0.4, 'conditions': [], 'min_value': 0.3, 'max_value': 0.6, 'step': 0.1, 'sampling': 'linear'}\n",
      "dropout_rate_2 (Float)\n",
      "{'default': 0.4, 'conditions': [], 'min_value': 0.3, 'max_value': 0.6, 'step': 0.1, 'sampling': 'linear'}\n",
      "ranking_score_activation (Choice)\n",
      "{'default': 'tanh', 'conditions': [], 'values': ['tanh', 'linear'], 'ordered': False}\n",
      "unfreeze_layers (Int)\n",
      "{'default': 4, 'conditions': [], 'min_value': 0, 'max_value': 4, 'step': 1, 'sampling': 'linear'}\n",
      "final_activation (Fixed)\n",
      "{'conditions': [], 'value': 'sigmoid'}\n",
      "learning_rate (Choice)\n",
      "{'default': 1e-05, 'conditions': [], 'values': [1e-05, 0.0001], 'ordered': True}\n",
      "optimizer (Choice)\n",
      "{'default': 'adam', 'conditions': [], 'values': ['adam', 'rmsprop'], 'ordered': False}\n"
     ]
    }
   ],
   "source": [
    "from datetime import date, datetime\n",
    "# Set the seed for data shuffling based on date and time\n",
    "r_today = date.today().strftime(\"%y%m%d\")\n",
    "r_time = datetime.now().strftime(\"%H%M\")\n",
    "r_datetime = int(f'{r_today}{r_time}')\n",
    "print('data_shuffle_seed: ', r_datetime)\n",
    "\n",
    "hypermodel_tuning_dir = 'hypermodel_tuning/BayesianOptimization_Q3_Datasets_rs2310101944'\n",
    "project_name = \"BayesianOptimization_{}\".format(r_datetime)\n",
    "\n",
    "tuner = kt.BayesianOptimization(\n",
    "    hypermodel=build_model,\n",
    "    objective='val_accuracy',\n",
    "    max_trials=100,\n",
    "    # num_initial_points=None,\n",
    "    # alpha=0.0001,\n",
    "    # beta=2.6,\n",
    "    # seed=None,\n",
    "    # hyperparameters=None,\n",
    "    # tune_new_entries=True,\n",
    "    # allow_new_entries=True,\n",
    "    # max_retries_per_trial=0,\n",
    "    # max_consecutive_failed_trials=3,\n",
    "    overwrite=False,\n",
    "    directory=hypermodel_tuning_dir,\n",
    "    project_name=project_name,\n",
    ")\n",
    "\n",
    "tuner.search_space_summary()"
   ],
   "metadata": {
    "collapsed": false,
    "ExecuteTime": {
     "end_time": "2023-10-11T00:15:58.031551600Z",
     "start_time": "2023-10-11T00:15:57.634664800Z"
    }
   },
   "id": "88f40d70ebf203b2"
  },
  {
   "cell_type": "markdown",
   "source": [
    "# Data Preparation"
   ],
   "metadata": {
    "collapsed": false
   },
   "id": "86a4cfa56d44c290"
  },
  {
   "cell_type": "code",
   "execution_count": 4,
   "outputs": [],
   "source": [
    "# question_id = 2\n",
    "# \n",
    "# duel_results_path = f'../../data/duel_results/duels_question_{question_id}.csv'\n",
    "# image_file_dir = '../../data/Mapillary_data/Sample_web_green'\n",
    "# \n",
    "# print(f'Dataset Seed:{data_shuffle_seed}') # For reproducibility, seed is defined using the date and time (e.g. 2021-01-01 12:30:15 -> seed = 20210101123015)\n",
    "# image_size = 224 \n",
    "# (x_train, y_train), (x_val, y_val), (x_test, y_test) = prepare_dataset(duel_results_path, \n",
    "#                                                                        image_file_dir, \n",
    "#                                                                        img_size=image_size,\n",
    "#                                                                        model_type='ranking',\n",
    "#                                                                        shuffle=True, \n",
    "#                                                                        shuffle_seed=data_shuffle_seed)\n",
    "\n",
    "\n",
    "# Load from the saved numpy arrays\n",
    "x1_train,x2_train = np.load('../../data/Q3_Datasets_rs2310101944/x_train.npy')\n",
    "x1_val,x2_val = np.load('../../data/Q3_Datasets_rs2310101944/x_val.npy')\n",
    "x1_test,x2_test = np.load('../../data/Q3_Datasets_rs2310101944/x_test.npy')\n",
    "\n",
    "y_train = np.load('../../data/Q3_Datasets_rs2310101944/y_train.npy')\n",
    "y_val = np.load('../../data/Q3_Datasets_rs2310101944/y_val.npy')\n",
    "y_test = np.load('../../data/Q3_Datasets_rs2310101944/y_test.npy')\n",
    "\n",
    "\n",
    "x_train = [x1_train, x2_train]\n",
    "x_val = [x1_val, x2_val]\n",
    "x_test = [x1_test, x2_test]\n",
    "\n",
    "del x1_train,x2_train,x1_val,x2_val,x1_test,x2_test"
   ],
   "metadata": {
    "collapsed": false,
    "ExecuteTime": {
     "end_time": "2023-10-11T00:15:59.117620Z",
     "start_time": "2023-10-11T00:15:58.031551600Z"
    }
   },
   "id": "765644e1cbedbc99"
  },
  {
   "cell_type": "markdown",
   "source": [
    "# Start Searching"
   ],
   "metadata": {
    "collapsed": false
   },
   "id": "216dc26e8dddbe16"
  },
  {
   "cell_type": "code",
   "execution_count": null,
   "outputs": [
    {
     "name": "stdout",
     "output_type": "stream",
     "text": [
      "Trial 18 Complete [00h 01m 07s]\n",
      "val_accuracy: 0.5381295084953308\n",
      "\n",
      "Best val_accuracy So Far: 0.7755395770072937\n",
      "Total elapsed time: 00h 28m 14s\n",
      "\n",
      "Search: Running Trial #19\n",
      "\n",
      "Value             |Best Value So Far |Hyperparameter\n",
      "vgg19             |vgg19             |feature_extractor\n",
      "2                 |4                 |num_dense_layers\n",
      "32                |64                |dense_units_1\n",
      "64                |80                |dense_units_2\n",
      "relu              |linear            |dense_activation_1\n",
      "sigmoid           |tanh              |dense_activation_2\n",
      "0.3               |0.4               |dropout_rate_1\n",
      "0.3               |0.4               |dropout_rate_2\n",
      "linear            |tanh              |ranking_score_activation\n",
      "0                 |4                 |unfreeze_layers\n",
      "sigmoid           |sigmoid           |final_activation\n",
      "1e-05             |0.0001            |learning_rate\n",
      "rmsprop           |rmsprop           |optimizer\n",
      "96                |64                |dense_units_3\n",
      "tanh              |sigmoid           |dense_activation_3\n",
      "0.5               |0.4               |dropout_rate_3\n",
      "16                |64                |dense_units_4\n",
      "linear            |tanh              |dense_activation_4\n",
      "0.5               |0.3               |dropout_rate_4\n",
      "WARNING:tensorflow:Using a while_loop for converting RngReadAndSkip cause there is no registered converter for this op.\n",
      "WARNING:tensorflow:Using a while_loop for converting Bitcast cause there is no registered converter for this op.\n",
      "WARNING:tensorflow:Using a while_loop for converting Bitcast cause there is no registered converter for this op.\n",
      "WARNING:tensorflow:Using a while_loop for converting StatelessRandomUniformV2 cause there is no registered converter for this op.\n",
      "WARNING:tensorflow:Using a while_loop for converting ImageProjectiveTransformV3 cause there is no registered converter for this op.\n",
      "WARNING:tensorflow:Using a while_loop for converting RngReadAndSkip cause there is no registered converter for this op.\n",
      "WARNING:tensorflow:Using a while_loop for converting Bitcast cause there is no registered converter for this op.\n",
      "WARNING:tensorflow:Using a while_loop for converting Bitcast cause there is no registered converter for this op.\n",
      "WARNING:tensorflow:Using a while_loop for converting StatelessRandomUniformFullIntV2 cause there is no registered converter for this op.\n",
      "WARNING:tensorflow:Using a while_loop for converting StatelessRandomGetKeyCounter cause there is no registered converter for this op.\n",
      "WARNING:tensorflow:Using a while_loop for converting StatelessRandomUniformV2 cause there is no registered converter for this op.\n",
      "WARNING:tensorflow:Using a while_loop for converting AdjustContrastv2 cause Input \"contrast_factor\" of op 'AdjustContrastv2' expected to be loop invariant.\n",
      "WARNING:tensorflow:Using a while_loop for converting RngReadAndSkip cause there is no registered converter for this op.\n",
      "WARNING:tensorflow:Using a while_loop for converting Bitcast cause there is no registered converter for this op.\n",
      "WARNING:tensorflow:Using a while_loop for converting Bitcast cause there is no registered converter for this op.\n",
      "WARNING:tensorflow:Using a while_loop for converting StatelessRandomUniformV2 cause there is no registered converter for this op.\n",
      "WARNING:tensorflow:Using a while_loop for converting RngReadAndSkip cause there is no registered converter for this op.\n",
      "WARNING:tensorflow:Using a while_loop for converting Bitcast cause there is no registered converter for this op.\n",
      "WARNING:tensorflow:Using a while_loop for converting Bitcast cause there is no registered converter for this op.\n",
      "WARNING:tensorflow:Using a while_loop for converting StatelessRandomUniformV2 cause there is no registered converter for this op.\n",
      "WARNING:tensorflow:Using a while_loop for converting ImageProjectiveTransformV3 cause there is no registered converter for this op.\n",
      "WARNING:tensorflow:Using a while_loop for converting RngReadAndSkip cause there is no registered converter for this op.\n",
      "WARNING:tensorflow:Using a while_loop for converting Bitcast cause there is no registered converter for this op.\n",
      "WARNING:tensorflow:Using a while_loop for converting Bitcast cause there is no registered converter for this op.\n",
      "WARNING:tensorflow:Using a while_loop for converting StatelessRandomUniformV2 cause there is no registered converter for this op.\n",
      "WARNING:tensorflow:Using a while_loop for converting RngReadAndSkip cause there is no registered converter for this op.\n",
      "WARNING:tensorflow:Using a while_loop for converting Bitcast cause there is no registered converter for this op.\n",
      "WARNING:tensorflow:Using a while_loop for converting Bitcast cause there is no registered converter for this op.\n",
      "WARNING:tensorflow:Using a while_loop for converting StatelessRandomUniformV2 cause there is no registered converter for this op.\n",
      "WARNING:tensorflow:Using a while_loop for converting ImageProjectiveTransformV3 cause there is no registered converter for this op.\n",
      "WARNING:tensorflow:Using a while_loop for converting RngReadAndSkip cause there is no registered converter for this op.\n",
      "WARNING:tensorflow:Using a while_loop for converting Bitcast cause there is no registered converter for this op.\n",
      "WARNING:tensorflow:Using a while_loop for converting Bitcast cause there is no registered converter for this op.\n",
      "WARNING:tensorflow:Using a while_loop for converting StatelessRandomUniformFullIntV2 cause there is no registered converter for this op.\n",
      "WARNING:tensorflow:Using a while_loop for converting StatelessRandomGetKeyCounter cause there is no registered converter for this op.\n",
      "WARNING:tensorflow:Using a while_loop for converting StatelessRandomUniformV2 cause there is no registered converter for this op.\n",
      "WARNING:tensorflow:Using a while_loop for converting AdjustContrastv2 cause Input \"contrast_factor\" of op 'AdjustContrastv2' expected to be loop invariant.\n",
      "WARNING:tensorflow:Using a while_loop for converting RngReadAndSkip cause there is no registered converter for this op.\n",
      "WARNING:tensorflow:Using a while_loop for converting Bitcast cause there is no registered converter for this op.\n",
      "WARNING:tensorflow:Using a while_loop for converting Bitcast cause there is no registered converter for this op.\n",
      "WARNING:tensorflow:Using a while_loop for converting StatelessRandomUniformV2 cause there is no registered converter for this op.\n",
      "WARNING:tensorflow:Using a while_loop for converting RngReadAndSkip cause there is no registered converter for this op.\n",
      "WARNING:tensorflow:Using a while_loop for converting Bitcast cause there is no registered converter for this op.\n",
      "WARNING:tensorflow:Using a while_loop for converting Bitcast cause there is no registered converter for this op.\n",
      "WARNING:tensorflow:Using a while_loop for converting StatelessRandomUniformV2 cause there is no registered converter for this op.\n",
      "WARNING:tensorflow:Using a while_loop for converting ImageProjectiveTransformV3 cause there is no registered converter for this op.\n",
      "WARNING:tensorflow:Using a while_loop for converting RngReadAndSkip cause there is no registered converter for this op.\n",
      "WARNING:tensorflow:Using a while_loop for converting Bitcast cause there is no registered converter for this op.\n",
      "WARNING:tensorflow:Using a while_loop for converting Bitcast cause there is no registered converter for this op.\n",
      "WARNING:tensorflow:Using a while_loop for converting StatelessRandomUniformV2 cause there is no registered converter for this op.\n",
      "WARNING:tensorflow:Using a while_loop for converting RngReadAndSkip cause there is no registered converter for this op.\n",
      "WARNING:tensorflow:Using a while_loop for converting Bitcast cause there is no registered converter for this op.\n",
      "WARNING:tensorflow:Using a while_loop for converting Bitcast cause there is no registered converter for this op.\n",
      "WARNING:tensorflow:Using a while_loop for converting StatelessRandomUniformV2 cause there is no registered converter for this op.\n",
      "WARNING:tensorflow:Using a while_loop for converting ImageProjectiveTransformV3 cause there is no registered converter for this op.\n",
      "WARNING:tensorflow:Using a while_loop for converting RngReadAndSkip cause there is no registered converter for this op.\n",
      "WARNING:tensorflow:Using a while_loop for converting Bitcast cause there is no registered converter for this op.\n",
      "WARNING:tensorflow:Using a while_loop for converting Bitcast cause there is no registered converter for this op.\n",
      "WARNING:tensorflow:Using a while_loop for converting StatelessRandomUniformFullIntV2 cause there is no registered converter for this op.\n",
      "WARNING:tensorflow:Using a while_loop for converting StatelessRandomGetKeyCounter cause there is no registered converter for this op.\n",
      "WARNING:tensorflow:Using a while_loop for converting StatelessRandomUniformV2 cause there is no registered converter for this op.\n",
      "WARNING:tensorflow:Using a while_loop for converting AdjustContrastv2 cause Input \"contrast_factor\" of op 'AdjustContrastv2' expected to be loop invariant.\n",
      "WARNING:tensorflow:Using a while_loop for converting RngReadAndSkip cause there is no registered converter for this op.\n",
      "WARNING:tensorflow:Using a while_loop for converting Bitcast cause there is no registered converter for this op.\n",
      "WARNING:tensorflow:Using a while_loop for converting Bitcast cause there is no registered converter for this op.\n",
      "WARNING:tensorflow:Using a while_loop for converting StatelessRandomUniformV2 cause there is no registered converter for this op.\n",
      "WARNING:tensorflow:Using a while_loop for converting RngReadAndSkip cause there is no registered converter for this op.\n",
      "WARNING:tensorflow:Using a while_loop for converting Bitcast cause there is no registered converter for this op.\n",
      "WARNING:tensorflow:Using a while_loop for converting Bitcast cause there is no registered converter for this op.\n",
      "WARNING:tensorflow:Using a while_loop for converting StatelessRandomUniformV2 cause there is no registered converter for this op.\n",
      "WARNING:tensorflow:Using a while_loop for converting ImageProjectiveTransformV3 cause there is no registered converter for this op.\n",
      "WARNING:tensorflow:Using a while_loop for converting RngReadAndSkip cause there is no registered converter for this op.\n",
      "WARNING:tensorflow:Using a while_loop for converting Bitcast cause there is no registered converter for this op.\n",
      "WARNING:tensorflow:Using a while_loop for converting Bitcast cause there is no registered converter for this op.\n",
      "WARNING:tensorflow:Using a while_loop for converting StatelessRandomUniformV2 cause there is no registered converter for this op.\n",
      "Epoch 1/50\n",
      " 6/66 [=>............................] - ETA: 12s - loss: 1.0362 - accuracy: 0.5469WARNING:tensorflow:Callback method `on_train_batch_end` is slow compared to the batch time (batch time: 0.0717s vs `on_train_batch_end` time: 0.1409s). Check your callbacks.\n",
      "66/66 [==============================] - 19s 268ms/step - loss: 0.8701 - accuracy: 0.6315 - val_loss: 0.5615 - val_accuracy: 0.6906\n",
      "Epoch 2/50\n",
      "66/66 [==============================] - 17s 254ms/step - loss: 0.6750 - accuracy: 0.7131 - val_loss: 0.5684 - val_accuracy: 0.7194\n",
      "Epoch 3/50\n",
      "66/66 [==============================] - 17s 260ms/step - loss: 0.6356 - accuracy: 0.7150 - val_loss: 0.5864 - val_accuracy: 0.7295\n",
      "Epoch 4/50\n",
      "66/66 [==============================] - 15s 228ms/step - loss: 0.5146 - accuracy: 0.7678 - val_loss: 0.5889 - val_accuracy: 0.6892\n",
      "Epoch 5/50\n",
      "66/66 [==============================] - 15s 227ms/step - loss: 0.5072 - accuracy: 0.7721 - val_loss: 0.6174 - val_accuracy: 0.7237\n",
      "Epoch 6/50\n",
      "66/66 [==============================] - 15s 227ms/step - loss: 0.4545 - accuracy: 0.7980 - val_loss: 0.5876 - val_accuracy: 0.7281\n",
      "Epoch 7/50\n",
      "66/66 [==============================] - 15s 227ms/step - loss: 0.4314 - accuracy: 0.8085 - val_loss: 0.5958 - val_accuracy: 0.7050\n",
      "Epoch 8/50\n",
      "32/66 [=============>................] - ETA: 7s - loss: 0.3797 - accuracy: 0.8193"
     ]
    }
   ],
   "source": [
    "tuner.search(x=x_train,\n",
    "             y=y_train,\n",
    "             epochs=50,\n",
    "             batch_size=32,\n",
    "             validation_data=(x_val, y_val),\n",
    "             callbacks=[EarlyStopping(monitor='val_accuracy', \n",
    "                                      patience=10, \n",
    "                                      baseline=0.75,\n",
    "                                      restore_best_weights=True)])"
   ],
   "metadata": {
    "collapsed": false,
    "is_executing": true
   },
   "id": "5f82c8955ca1ed40"
  },
  {
   "cell_type": "markdown",
   "source": [
    "# Print the Search Space"
   ],
   "metadata": {
    "collapsed": false
   },
   "id": "7b6a4a9e839f60df"
  },
  {
   "cell_type": "code",
   "execution_count": null,
   "outputs": [],
   "source": [
    "tuner.search_space_summary()\n",
    "\n",
    "project_dir = f'{hypermodel_tuning_dir}/{project_name}'\n",
    "os.makedirs(project_dir, exist_ok=True)\n",
    "\n",
    "with open(f'{project_dir}/search_space.txt', 'w') as f:\n",
    "    original_stdout = sys.stdout\n",
    "    sys.stdout = f\n",
    "    f.write(str(tuner.search_space_summary()))\n",
    "    sys.stdout = original_stdout\n",
    "    f.close()\n"
   ],
   "metadata": {
    "collapsed": false,
    "is_executing": true
   },
   "id": "e0ab201377e87d38"
  },
  {
   "cell_type": "markdown",
   "source": [
    "# Query the Search Results"
   ],
   "metadata": {
    "collapsed": false
   },
   "id": "90d5ea64714a7f75"
  },
  {
   "cell_type": "code",
   "execution_count": null,
   "outputs": [],
   "source": [
    "tuner.results_summary()\n",
    "\n",
    "with open(f'{project_dir}/results_summary.txt', 'w') as f:\n",
    "    original_stdout = sys.stdout\n",
    "    sys.stdout = f\n",
    "    f.write(str(tuner.results_summary()))\n",
    "    sys.stdout = original_stdout\n",
    "    f.close()"
   ],
   "metadata": {
    "collapsed": false,
    "is_executing": true
   },
   "id": "ca26295aeabfd840"
  },
  {
   "cell_type": "markdown",
   "source": [
    "# Save the best models with weights, hyperparameters defined in the search space and model architectures "
   ],
   "metadata": {
    "collapsed": false
   },
   "id": "eb48750f08e6fb28"
  },
  {
   "cell_type": "code",
   "execution_count": null,
   "outputs": [],
   "source": [
    "best_hps = tuner.get_best_hyperparameters(num_trials=10)\n",
    "best_models = tuner.get_best_models(num_models=10)\n",
    "\n",
    "import json\n",
    "for i in range(len(best_models)):\n",
    "    # save the weighted models \n",
    "    best_models[i].save(f'{project_dir}/best_model_{i+1}.keras')\n",
    "    \n",
    "    # save the hyperparameters defined in the search space\n",
    "    with open(f'{project_dir}/best_hps_{i+1}.json', 'w') as f:\n",
    "        json.dump(best_hps[i].values, f, indent=4)\n",
    "    \n",
    "    # save the model architecture\n",
    "    best_model_architecture = build_model(best_hps[i])\n",
    "    with open(f'{project_dir}/best_model_architecture_{i+1}.json', 'w') as f:\n",
    "        f.write(best_model_architecture.to_json(indent=4))\n",
    "        f.close()"
   ],
   "metadata": {
    "collapsed": false,
    "is_executing": true
   },
   "id": "43da233382efd4b2"
  },
  {
   "cell_type": "markdown",
   "source": [
    "# Retrain the best models"
   ],
   "metadata": {
    "collapsed": false
   },
   "id": "20a1896158091f80"
  },
  {
   "cell_type": "code",
   "execution_count": null,
   "outputs": [],
   "source": [
    "\n",
    "for i in range(len(best_models)):\n",
    "    print('Retraining Model {}...'.format(i+1))\n",
    "    \n",
    "    model = build_model(best_hps[i])\n",
    "    \n",
    "    # Train the model\n",
    "    history = model.fit(x=x_train, \n",
    "              y=y_train, \n",
    "              batch_size=32, \n",
    "              epochs=50, \n",
    "              verbose=1, \n",
    "              callbacks=[EarlyStopping(monitor='val_accuracy', \n",
    "                                       patience=10, \n",
    "                                       baseline=0.75,\n",
    "                                       restore_best_weights=True)],\n",
    "              validation_data=(x_val, y_val))\n",
    "    \n",
    "    best_val_acc = max(history.history['val_accuracy'])\n",
    "    \n",
    "    model_save_dir = '{}/Model_{}_Ranking_VGG19_BestValAcc{:.4f}'.format(project_dir, i+1, best_val_acc)\n",
    "    \n",
    "    safe_save_training_results(hyperparams_dict=best_hps[i].values,\n",
    "                               model=model,\n",
    "                               model_save_type='keras', \n",
    "                               history=history, \n",
    "                               his_save_type='csv', \n",
    "                               save_dir = model_save_dir,)\n",
    "    \n",
    "    # Save the plot\n",
    "    plot_model_metrics(history, ['loss', 'accuracy'], save_dir=model_save_dir)\n",
    "    \n",
    "    print('Model {} training results saved.'.format(i+1))\n",
    "    \n",
    "    # Clear the session for the next model\n",
    "    K.clear_session()"
   ],
   "metadata": {
    "collapsed": false,
    "is_executing": true
   },
   "id": "852f8f15031737e4"
  },
  {
   "cell_type": "code",
   "execution_count": null,
   "outputs": [],
   "source": [],
   "metadata": {
    "collapsed": false,
    "is_executing": true
   },
   "id": "f7b34c6f7944b961"
  }
 ],
 "metadata": {
  "kernelspec": {
   "display_name": "Python 3",
   "language": "python",
   "name": "python3"
  },
  "language_info": {
   "codemirror_mode": {
    "name": "ipython",
    "version": 2
   },
   "file_extension": ".py",
   "mimetype": "text/x-python",
   "name": "python",
   "nbconvert_exporter": "python",
   "pygments_lexer": "ipython2",
   "version": "2.7.6"
  }
 },
 "nbformat": 4,
 "nbformat_minor": 5
}
