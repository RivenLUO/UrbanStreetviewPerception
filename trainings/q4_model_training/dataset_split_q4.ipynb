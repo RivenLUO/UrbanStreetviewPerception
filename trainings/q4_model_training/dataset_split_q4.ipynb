{
 "cells": [
  {
   "cell_type": "code",
   "execution_count": 1,
   "id": "initial_id",
   "metadata": {
    "collapsed": true,
    "ExecuteTime": {
     "end_time": "2023-10-11T14:20:42.694087100Z",
     "start_time": "2023-10-11T14:18:32.697424400Z"
    }
   },
   "outputs": [
    {
     "name": "stdout",
     "output_type": "stream",
     "text": [
      "data_shuffle_seed:  2310111018\n",
      "Dataset Seed:2310111018\n"
     ]
    },
    {
     "name": "stderr",
     "output_type": "stream",
     "text": [
      "Processing Duels: 100%|██████████| 4452/4452 [01:25<00:00, 51.99it/s]\n"
     ]
    },
    {
     "name": "stdout",
     "output_type": "stream",
     "text": [
      "Dataset saved.\n"
     ]
    }
   ],
   "source": [
    "from src.dataset import prepare_dataset\n",
    "import numpy as np\n",
    "import os\n",
    "from datetime import date, datetime\n",
    "# Set the seed for data shuffling based on date and time\n",
    "r_today = date.today().strftime(\"%y%m%d\")\n",
    "r_time = datetime.now().strftime(\"%H%M\")\n",
    "data_shuffle_seed = int(f'{r_today}{r_time}')\n",
    "print('data_shuffle_seed: ', data_shuffle_seed)\n",
    "\n",
    "question_id = 4\n",
    "\n",
    "duel_results_path = f'../../data/duel_results/duels_question_{question_id}.csv'\n",
    "image_file_dir = '../../data/Mapillary_data/Sample_web_green'\n",
    "\n",
    "print(f'Dataset Seed:{data_shuffle_seed}') # For reproducibility, seed is defined using the date and time (e.g. 2021-01-01 12:30:15 -> seed = 20210101123015)\n",
    "image_size = 224 \n",
    "(x_train, y_train), (x_val, y_val), (x_test, y_test) = prepare_dataset(duel_results_path, \n",
    "                                                                       image_file_dir, \n",
    "                                                                       img_size=image_size,\n",
    "                                                                       model_type='ranking',\n",
    "                                                                       shuffle=True, \n",
    "                                                                       shuffle_seed=data_shuffle_seed)\n",
    "\n",
    "# Save the dataset (save them as numpy arrays)\n",
    "dataset_save_dir = '../../data/Q{}_Datasets_rs{}'.format(question_id, data_shuffle_seed)\n",
    "os.makedirs(dataset_save_dir, exist_ok=True)\n",
    "np.save(f'{dataset_save_dir}/x_train.npy', x_train)\n",
    "np.save(f'{dataset_save_dir}/y_train.npy', y_train)\n",
    "np.save(f'{dataset_save_dir}/x_val.npy', x_val)\n",
    "np.save(f'{dataset_save_dir}/y_val.npy', y_val)\n",
    "np.save(f'{dataset_save_dir}/x_test.npy', x_test)\n",
    "np.save(f'{dataset_save_dir}/y_test.npy', y_test)\n",
    "print('Dataset saved.')"
   ]
  },
  {
   "cell_type": "code",
   "execution_count": null,
   "outputs": [],
   "source": [],
   "metadata": {
    "collapsed": false
   },
   "id": "a50b1d613798a381"
  }
 ],
 "metadata": {
  "kernelspec": {
   "display_name": "Python 3",
   "language": "python",
   "name": "python3"
  },
  "language_info": {
   "codemirror_mode": {
    "name": "ipython",
    "version": 2
   },
   "file_extension": ".py",
   "mimetype": "text/x-python",
   "name": "python",
   "nbconvert_exporter": "python",
   "pygments_lexer": "ipython2",
   "version": "2.7.6"
  }
 },
 "nbformat": 4,
 "nbformat_minor": 5
}
