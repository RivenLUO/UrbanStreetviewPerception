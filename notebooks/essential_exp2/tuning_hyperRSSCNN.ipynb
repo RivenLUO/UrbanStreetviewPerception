{
 "cells": [
  {
   "cell_type": "code",
   "execution_count": 4,
   "id": "initial_id",
   "metadata": {
    "collapsed": true,
    "ExecuteTime": {
     "end_time": "2023-11-21T20:09:48.927616900Z",
     "start_time": "2023-11-21T20:09:48.911986900Z"
    }
   },
   "outputs": [],
   "source": [
    "from src.dataset import prepare_dataset"
   ]
  },
  {
   "cell_type": "code",
   "execution_count": 5,
   "outputs": [
    {
     "name": "stdout",
     "output_type": "stream",
     "text": [
      "Number of duels before removing the duplicated duels: 4563\n",
      "Number of duels after removing the duplicated duels: 4536\n"
     ]
    },
    {
     "name": "stderr",
     "output_type": "stream",
     "text": [
      "Processing Duels: 100%|██████████| 4536/4536 [00:33<00:00, 135.86it/s]\n"
     ]
    },
    {
     "name": "stdout",
     "output_type": "stream",
     "text": [
      "Dataset shuffled. Random seed:  42\n",
      "Dataset split into train, validation and test sets. Split ratio:  [0.6, 0.2]\n"
     ]
    }
   ],
   "source": [
    "question_id = 1\n",
    "images_dir = '../../data/Mapillary_data/Sample_web_green/' \n",
    "duel_results_path = f'../../data/duel_results/duels_question_{question_id}.csv'\n",
    "img_size = 224  # Default to 224 for VGG19\n",
    "shuffle_seed = 42\n",
    "\n",
    "(x_train, y_train), (x_val, y_val), (x_test, y_test) = prepare_dataset(img_size,duel_results_path, images_dir,  shuffle=True, shuffle_seed=shuffle_seed)"
   ],
   "metadata": {
    "collapsed": false,
    "ExecuteTime": {
     "end_time": "2023-11-21T20:10:26.075860300Z",
     "start_time": "2023-11-21T20:09:48.929621400Z"
    }
   },
   "id": "7c43aa5b6aa41f13"
  },
  {
   "cell_type": "code",
   "execution_count": 6,
   "outputs": [
    {
     "name": "stdout",
     "output_type": "stream",
     "text": [
      "(2721, 224, 224, 3) (2721,)\n"
     ]
    }
   ],
   "source": [
    "print(x_train[0].shape, y_train.shape)"
   ],
   "metadata": {
    "collapsed": false,
    "ExecuteTime": {
     "end_time": "2023-11-21T20:10:26.091573200Z",
     "start_time": "2023-11-21T20:10:26.075860300Z"
    }
   },
   "id": "2045b33e5df05458"
  },
  {
   "cell_type": "code",
   "execution_count": null,
   "outputs": [],
   "source": [
    "hyperModel = "
   ],
   "metadata": {
    "collapsed": false
   },
   "id": "54602e112fb2cb69"
  }
 ],
 "metadata": {
  "kernelspec": {
   "display_name": "Python 3",
   "language": "python",
   "name": "python3"
  },
  "language_info": {
   "codemirror_mode": {
    "name": "ipython",
    "version": 2
   },
   "file_extension": ".py",
   "mimetype": "text/x-python",
   "name": "python",
   "nbconvert_exporter": "python",
   "pygments_lexer": "ipython2",
   "version": "2.7.6"
  }
 },
 "nbformat": 4,
 "nbformat_minor": 5
}
