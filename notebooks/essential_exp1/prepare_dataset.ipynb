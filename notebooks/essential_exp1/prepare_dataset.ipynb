{
 "cells": [
  {
   "cell_type": "code",
   "execution_count": null,
   "id": "initial_id",
   "metadata": {
    "collapsed": true
   },
   "outputs": [],
   "source": [
    "from src.dataset import prepare_dataset\n",
    "import numpy as np\n",
    "import os\n",
    "from datetime import date, datetime\n",
    "# Set the seed for data shuffling based on date and time\n",
    "r_today = date.today().strftime(\"%y%m%d\")\n",
    "r_time = datetime.now().strftime(\"%H%M\")\n",
    "data_shuffle_seed = int(f'{r_today}{r_time}')\n",
    "print('data_shuffle_seed: ', data_shuffle_seed)\n",
    "\n",
    "question_id = 1\n",
    "\n",
    "duel_results_path = f'../../data/duel_results/duels_question_{question_id}.csv'\n",
    "image_file_dir = '../../data/Mapillary_data/Sample_web_green'\n",
    "\n",
    "print(f'Dataset Seed:{data_shuffle_seed}') # For reproducibility, seed is defined using the date and time (e.g. 2021-01-01 12:30:15 -> seed = 20210101123015)\n",
    "image_size = 224 \n",
    "(x_train, y_train), (x_val, y_val), (x_test, y_test) = prepare_dataset(duel_results_path, \n",
    "                                                                       image_file_dir, \n",
    "                                                                       img_size=image_size,\n",
    "                                                                       model_type='ranking',\n",
    "                                                                       shuffle=True, \n",
    "                                                                       shuffle_seed=data_shuffle_seed)\n",
    "\n",
    "# Save the dataset (save them as numpy arrays)\n",
    "dataset_save_dir = '../../data/datasets_q{}_{}'.format(question_id, data_shuffle_seed)\n",
    "os.makedirs(dataset_save_dir, exist_ok=True)\n",
    "np.save(f'{dataset_save_dir}/x_train.npy', x_train)\n",
    "np.save(f'{dataset_save_dir}/y_train.npy', y_train)\n",
    "np.save(f'{dataset_save_dir}/x_val.npy', x_val)\n",
    "np.save(f'{dataset_save_dir}/y_val.npy', y_val)\n",
    "np.save(f'{dataset_save_dir}/x_test.npy', x_test)\n",
    "np.save(f'{dataset_save_dir}/y_test.npy', y_test)\n",
    "print('Dataset saved.')"
   ]
  }
 ],
 "metadata": {
  "kernelspec": {
   "display_name": "Python 3",
   "language": "python",
   "name": "python3"
  },
  "language_info": {
   "codemirror_mode": {
    "name": "ipython",
    "version": 2
   },
   "file_extension": ".py",
   "mimetype": "text/x-python",
   "name": "python",
   "nbconvert_exporter": "python",
   "pygments_lexer": "ipython2",
   "version": "2.7.6"
  }
 },
 "nbformat": 4,
 "nbformat_minor": 5
}
