{
 "cells": [
  {
   "cell_type": "code",
   "execution_count": 1,
   "outputs": [],
   "source": [
    "import os\n",
    "import sys\n",
    "import pandas as pd\n",
    "from src.duel_result_preprocessing import load_duel_results, remove_duplicated_duels\n",
    "sys.path.append('../../')"
   ],
   "metadata": {
    "collapsed": false,
    "ExecuteTime": {
     "end_time": "2023-10-16T16:05:36.073861500Z",
     "start_time": "2023-10-16T16:05:34.475999Z"
    }
   },
   "id": "7549d0c784d94300"
  },
  {
   "cell_type": "code",
   "execution_count": 2,
   "outputs": [],
   "source": [
    "duel_results_1_path = '../../data/duel_results/duels_question_1.csv'\n",
    "duel_results_2_path = '../../data/duel_results/duels_question_2.csv'\n",
    "duel_results_3_path = '../../data/duel_results/duels_question_3.csv'\n",
    "duel_results_4_path = '../../data/duel_results/duels_question_4.csv'"
   ],
   "metadata": {
    "collapsed": false,
    "ExecuteTime": {
     "end_time": "2023-10-16T16:05:36.092841200Z",
     "start_time": "2023-10-16T16:05:36.077263Z"
    }
   },
   "id": "initial_id"
  },
  {
   "cell_type": "code",
   "execution_count": 3,
   "outputs": [
    {
     "name": "stdout",
     "output_type": "stream",
     "text": [
      "Total number of all unique images for all question: 8226\n"
     ]
    }
   ],
   "source": [
    "duel_results_1 = load_duel_results(duel_results_1_path)\n",
    "duel_results_2 = load_duel_results(duel_results_2_path)\n",
    "duel_results_3 = load_duel_results(duel_results_3_path)\n",
    "duel_results_4 = load_duel_results(duel_results_4_path)\n",
    "print('Total number of all unique images for all question:', len(set(duel_results_1['IMG1']).union(set(duel_results_2['IMG1']), set(duel_results_3['IMG1']), set(duel_results_4['IMG1']))))"
   ],
   "metadata": {
    "collapsed": false,
    "ExecuteTime": {
     "end_time": "2023-10-16T16:05:36.124886100Z",
     "start_time": "2023-10-16T16:05:36.092841200Z"
    }
   },
   "id": "1dd18083a28c3360"
  },
  {
   "cell_type": "code",
   "execution_count": 4,
   "outputs": [
    {
     "name": "stdout",
     "output_type": "stream",
     "text": [
      "Number of duels before removing the duplicated duels: 4563\n",
      "Number of duels after removing the duplicated duels: 4536\n",
      "Number of duels before removing the duplicated duels: 4468\n",
      "Number of duels after removing the duplicated duels: 4395\n",
      "Number of duels before removing the duplicated duels: 3474\n",
      "Number of duels after removing the duplicated duels: 3442\n",
      "Number of duels before removing the duplicated duels: 4452\n",
      "Number of duels after removing the duplicated duels: 4400\n"
     ]
    }
   ],
   "source": [
    "duel_results_1 = remove_duplicated_duels(duel_results_1)\n",
    "duel_results_2 = remove_duplicated_duels(duel_results_2)\n",
    "duel_results_3 = remove_duplicated_duels(duel_results_3)\n",
    "duel_results_4 = remove_duplicated_duels(duel_results_4)"
   ],
   "metadata": {
    "collapsed": false,
    "ExecuteTime": {
     "end_time": "2023-10-16T16:05:40.849540500Z",
     "start_time": "2023-10-16T16:05:36.124886100Z"
    }
   },
   "id": "276ff69f7bb9058b"
  },
  {
   "cell_type": "code",
   "execution_count": 5,
   "outputs": [
    {
     "name": "stdout",
     "output_type": "stream",
     "text": [
      "IMG_PAIR\n",
      "False    4536\n",
      "Name: count, dtype: int64\n",
      "IMG_PAIR\n",
      "False    4536\n",
      "Name: count, dtype: int64\n",
      "IMG_PAIR\n",
      "False    4536\n",
      "Name: count, dtype: int64\n"
     ]
    }
   ],
   "source": [
    "# Check if there are duplicated duels in different questions\n",
    "print(duel_results_1['IMG_PAIR'].isin(duel_results_2['IMG_PAIR']).value_counts())\n",
    "print(duel_results_1['IMG_PAIR'].isin(duel_results_3['IMG_PAIR']).value_counts())\n",
    "print(duel_results_1['IMG_PAIR'].isin(duel_results_4['IMG_PAIR']).value_counts())"
   ],
   "metadata": {
    "collapsed": false,
    "ExecuteTime": {
     "end_time": "2023-10-16T16:05:40.900013400Z",
     "start_time": "2023-10-16T16:05:40.849540500Z"
    }
   },
   "id": "eb79137a97eb87e9"
  },
  {
   "cell_type": "code",
   "execution_count": 6,
   "outputs": [
    {
     "name": "stdout",
     "output_type": "stream",
     "text": [
      "IMG_PAIR\n",
      "False    4395\n",
      "Name: count, dtype: int64\n",
      "IMG_PAIR\n",
      "False    4395\n",
      "Name: count, dtype: int64\n"
     ]
    }
   ],
   "source": [
    "print(duel_results_2['IMG_PAIR'].isin(duel_results_3['IMG_PAIR']).value_counts())\n",
    "print(duel_results_2['IMG_PAIR'].isin(duel_results_4['IMG_PAIR']).value_counts())"
   ],
   "metadata": {
    "collapsed": false,
    "ExecuteTime": {
     "end_time": "2023-10-16T16:05:40.900013400Z",
     "start_time": "2023-10-16T16:05:40.865854900Z"
    }
   },
   "id": "7bf5855f6ba06a5c"
  },
  {
   "cell_type": "code",
   "execution_count": 7,
   "outputs": [
    {
     "name": "stdout",
     "output_type": "stream",
     "text": [
      "IMG_PAIR\n",
      "False    3442\n",
      "Name: count, dtype: int64\n"
     ]
    }
   ],
   "source": [
    "print(duel_results_3['IMG_PAIR'].isin(duel_results_4['IMG_PAIR']).value_counts())"
   ],
   "metadata": {
    "collapsed": false,
    "ExecuteTime": {
     "end_time": "2023-10-16T16:05:40.900013400Z",
     "start_time": "2023-10-16T16:05:40.884410200Z"
    }
   },
   "id": "1cffc966e76a79d4"
  },
  {
   "cell_type": "code",
   "execution_count": 8,
   "outputs": [
    {
     "name": "stdout",
     "output_type": "stream",
     "text": [
      "Duel_results_1 in Duel_results_2: IMG1\n",
      "False    2917\n",
      "True     1619\n",
      "Name: count, dtype: int64 \n",
      " Duel_results_1 in Duel_results_3: IMG1\n",
      "False    3254\n",
      "True     1282\n",
      "Name: count, dtype: int64 \n",
      " Duel_results_1 in Duel_results_4: IMG1\n",
      "False    2977\n",
      "True     1559\n",
      "Name: count, dtype: int64\n",
      "Duel_results_2 in Duel_results_3: IMG1\n",
      "False    3101\n",
      "True     1294\n",
      "Name: count, dtype: int64 \n",
      " Duel_results_2 in Duel_results_4: IMG1\n",
      "False    2825\n",
      "True     1570\n",
      "Name: count, dtype: int64\n",
      "Duel_results_3 in Duel_results_4: IMG1\n",
      "False    2292\n",
      "True     1150\n",
      "Name: count, dtype: int64\n"
     ]
    }
   ],
   "source": [
    "# Check if there are duplicated images in different questions\n",
    "print('Duel_results_1 in Duel_results_2:', duel_results_1['IMG1'].isin(duel_results_2['IMG1']).value_counts(), '\\n',\n",
    "        'Duel_results_1 in Duel_results_3:', duel_results_1['IMG1'].isin(duel_results_3['IMG1']).value_counts(), '\\n',\n",
    "        'Duel_results_1 in Duel_results_4:', duel_results_1['IMG1'].isin(duel_results_4['IMG1']).value_counts())\n",
    "print('Duel_results_2 in Duel_results_3:', duel_results_2['IMG1'].isin(duel_results_3['IMG1']).value_counts(), '\\n',\n",
    "        'Duel_results_2 in Duel_results_4:', duel_results_2['IMG1'].isin(duel_results_4['IMG1']).value_counts())\n",
    "print('Duel_results_3 in Duel_results_4:', duel_results_3['IMG1'].isin(duel_results_4['IMG1']).value_counts())"
   ],
   "metadata": {
    "collapsed": false,
    "ExecuteTime": {
     "end_time": "2023-10-16T16:05:40.916034Z",
     "start_time": "2023-10-16T16:05:40.900013400Z"
    }
   },
   "id": "4c39326cada58db7"
  },
  {
   "cell_type": "code",
   "execution_count": 9,
   "outputs": [
    {
     "name": "stdout",
     "output_type": "stream",
     "text": [
      "Duel_results_1 in Duel_results_2: IMG2\n",
      "False    2953\n",
      "True     1583\n",
      "Name: count, dtype: int64 \n",
      " Duel_results_1 in Duel_results_3: IMG2\n",
      "False    3249\n",
      "True     1287\n",
      "Name: count, dtype: int64 \n",
      " Duel_results_1 in Duel_results_4: IMG2\n",
      "False    2914\n",
      "True     1622\n",
      "Name: count, dtype: int64\n",
      "Duel_results_2 in Duel_results_3: IMG2\n",
      "False    3095\n",
      "True     1300\n",
      "Name: count, dtype: int64 \n",
      " Duel_results_2 in Duel_results_4: IMG2\n",
      "False    2841\n",
      "True     1554\n",
      "Name: count, dtype: int64\n",
      "Duel_results_3 in Duel_results_4: IMG2\n",
      "False    2198\n",
      "True     1244\n",
      "Name: count, dtype: int64\n"
     ]
    }
   ],
   "source": [
    "print('Duel_results_1 in Duel_results_2:', duel_results_1['IMG2'].isin(duel_results_2['IMG2']).value_counts(), '\\n',\n",
    "        'Duel_results_1 in Duel_results_3:', duel_results_1['IMG2'].isin(duel_results_3['IMG2']).value_counts(), '\\n',\n",
    "        'Duel_results_1 in Duel_results_4:', duel_results_1['IMG2'].isin(duel_results_4['IMG2']).value_counts())\n",
    "print('Duel_results_2 in Duel_results_3:', duel_results_2['IMG2'].isin(duel_results_3['IMG2']).value_counts(), '\\n',\n",
    "        'Duel_results_2 in Duel_results_4:', duel_results_2['IMG2'].isin(duel_results_4['IMG2']).value_counts())\n",
    "print('Duel_results_3 in Duel_results_4:', duel_results_3['IMG2'].isin(duel_results_4['IMG2']).value_counts())"
   ],
   "metadata": {
    "collapsed": false,
    "ExecuteTime": {
     "end_time": "2023-10-16T16:05:40.978330400Z",
     "start_time": "2023-10-16T16:05:40.916034Z"
    }
   },
   "id": "ee6fc7b83fdf1131"
  },
  {
   "cell_type": "code",
   "execution_count": 10,
   "outputs": [
    {
     "name": "stdout",
     "output_type": "stream",
     "text": [
      "Images used in all questions: 112\n"
     ]
    }
   ],
   "source": [
    "# Check if an image is used in all questions and count all such images. Using set() to remove duplicates of images\n",
    "print('Images used in all questions:', len(set(duel_results_1['IMG1']).intersection(set(duel_results_2['IMG1']), set(duel_results_3['IMG1']), set(duel_results_4['IMG1'])))) "
   ],
   "metadata": {
    "collapsed": false,
    "ExecuteTime": {
     "end_time": "2023-10-16T16:05:40.978330400Z",
     "start_time": "2023-10-16T16:05:40.931548300Z"
    }
   },
   "id": "b70d53e6ab7a6a95"
  },
  {
   "cell_type": "code",
   "execution_count": 11,
   "outputs": [
    {
     "name": "stdout",
     "output_type": "stream",
     "text": [
      "Images used in question 1 alone: 1132\n",
      "Images used in question 2 alone: 1039\n",
      "Images used in question 3 alone: 783\n",
      "Images used in question 4 alone: 1059\n",
      "The sum of all above: 4013\n"
     ]
    }
   ],
   "source": [
    "# Count the number of images used in each question alone\n",
    "print('Images used in question 1 alone:', len(set(duel_results_1['IMG1']).difference(set(duel_results_2['IMG1']), set(duel_results_3['IMG1']), set(duel_results_4['IMG1']))))\n",
    "print('Images used in question 2 alone:', len(set(duel_results_2['IMG1']).difference(set(duel_results_1['IMG1']), set(duel_results_3['IMG1']), set(duel_results_4['IMG1']))))\n",
    "print('Images used in question 3 alone:', len(set(duel_results_3['IMG1']).difference(set(duel_results_1['IMG1']), set(duel_results_2['IMG1']), set(duel_results_4['IMG1']))))\n",
    "print('Images used in question 4 alone:', len(set(duel_results_4['IMG1']).difference(set(duel_results_1['IMG1']), set(duel_results_2['IMG1']), set(duel_results_3['IMG1']))))\n",
    "print('The sum of all above:', len(set(duel_results_1['IMG1']).difference(set(duel_results_2['IMG1']), set(duel_results_3['IMG1']), set(duel_results_4['IMG1']))) + len(set(duel_results_2['IMG1']).difference(set(duel_results_1['IMG1']), set(duel_results_3['IMG1']), set(duel_results_4['IMG1']))) + len(set(duel_results_3['IMG1']).difference(set(duel_results_1['IMG1']), set(duel_results_2['IMG1']), set(duel_results_4['IMG1']))) + len(set(duel_results_4['IMG1']).difference(set(duel_results_1['IMG1']), set(duel_results_2['IMG1']), set(duel_results_3['IMG1']))))"
   ],
   "metadata": {
    "collapsed": false,
    "ExecuteTime": {
     "end_time": "2023-10-16T16:05:40.978330400Z",
     "start_time": "2023-10-16T16:05:40.947179600Z"
    }
   },
   "id": "9811692bfe63cf74"
  },
  {
   "cell_type": "code",
   "execution_count": 12,
   "outputs": [
    {
     "name": "stdout",
     "output_type": "stream",
     "text": [
      "Total number of all unique images for all question: 8223\n"
     ]
    }
   ],
   "source": [
    "print('Total number of all unique images for all question:', len(set(duel_results_1['IMG1']).union(set(duel_results_2['IMG1']), set(duel_results_3['IMG1']), set(duel_results_4['IMG1']))))"
   ],
   "metadata": {
    "collapsed": false,
    "ExecuteTime": {
     "end_time": "2023-10-16T16:05:40.978330400Z",
     "start_time": "2023-10-16T16:05:40.962693300Z"
    }
   },
   "id": "64ff6ff57992a4d6"
  },
  {
   "cell_type": "code",
   "execution_count": 13,
   "outputs": [
    {
     "name": "stdout",
     "output_type": "stream",
     "text": [
      "Images used in question 1 and 2: 1302\n",
      "Images used in question 1 and 3: 1043\n",
      "Images used in question 1 and 4: 1285\n",
      "Images used in question 2 and 3: 1042\n",
      "Images used in question 2 and 4: 1255\n",
      "Images used in question 3 and 4: 987\n"
     ]
    }
   ],
   "source": [
    "# Count number of images used in any intersection of questions\n",
    "print('Images used in question 1 and 2:', len(set(duel_results_1['IMG1']).intersection(set(duel_results_2['IMG1']))))\n",
    "print('Images used in question 1 and 3:', len(set(duel_results_1['IMG1']).intersection(set(duel_results_3['IMG1']))))\n",
    "print('Images used in question 1 and 4:', len(set(duel_results_1['IMG1']).intersection(set(duel_results_4['IMG1']))))\n",
    "print('Images used in question 2 and 3:', len(set(duel_results_2['IMG1']).intersection(set(duel_results_3['IMG1']))))\n",
    "print('Images used in question 2 and 4:', len(set(duel_results_2['IMG1']).intersection(set(duel_results_4['IMG1']))))\n",
    "print('Images used in question 3 and 4:', len(set(duel_results_3['IMG1']).intersection(set(duel_results_4['IMG1']))))"
   ],
   "metadata": {
    "collapsed": false,
    "ExecuteTime": {
     "end_time": "2023-10-16T16:14:05.403698Z",
     "start_time": "2023-10-16T16:14:05.375503600Z"
    }
   },
   "id": "f6aba278bc4d6f1f"
  },
  {
   "cell_type": "code",
   "execution_count": 15,
   "outputs": [
    {
     "name": "stdout",
     "output_type": "stream",
     "text": [
      "Images used in question 1 and 2 and 3: 391\n",
      "Images used in question 1 and 2 and 4: 459\n"
     ]
    }
   ],
   "source": [
    "print('Images used in question 1 and 2 and 3:', len(set(duel_results_1['IMG1']).intersection(set(duel_results_2['IMG1']), set(duel_results_3['IMG1']))))\n",
    "print('Images used in question 1 and 2 and 4:', len(set(duel_results_1['IMG1']).intersection(set(duel_results_2['IMG1']), set(duel_results_4['IMG1']))))"
   ],
   "metadata": {
    "collapsed": false,
    "ExecuteTime": {
     "end_time": "2023-10-16T16:15:33.251828Z",
     "start_time": "2023-10-16T16:15:33.233121800Z"
    }
   },
   "id": "bfd0fa51fe58daf5"
  },
  {
   "cell_type": "code",
   "execution_count": 17,
   "outputs": [
    {
     "name": "stdout",
     "output_type": "stream",
     "text": [
      "Image used in question 2 and 3 and 4: 336\n"
     ]
    }
   ],
   "source": [
    "print('Image used in question 2 and 3 and 4:', len(set(duel_results_2['IMG1']).intersection(set(duel_results_3['IMG1']), set(duel_results_4['IMG1']))))"
   ],
   "metadata": {
    "collapsed": false,
    "ExecuteTime": {
     "end_time": "2023-10-16T16:17:18.179290400Z",
     "start_time": "2023-10-16T16:17:18.156806100Z"
    }
   },
   "id": "46c7e575bec38397"
  },
  {
   "cell_type": "code",
   "execution_count": 19,
   "outputs": [
    {
     "name": "stdout",
     "output_type": "stream",
     "text": [
      "Images used in question 1 and 3 and 4: 334\n"
     ]
    }
   ],
   "source": [
    "print('Images used in question 1 and 3 and 4:', len(set(duel_results_1['IMG1']).intersection(set(duel_results_3['IMG1']), set(duel_results_4['IMG1']))))"
   ],
   "metadata": {
    "collapsed": false,
    "ExecuteTime": {
     "end_time": "2023-10-16T16:19:09.067670Z",
     "start_time": "2023-10-16T16:19:09.051655600Z"
    }
   },
   "id": "dead2a8e69623cae"
  },
  {
   "cell_type": "code",
   "execution_count": null,
   "outputs": [],
   "source": [
    " "
   ],
   "metadata": {
    "collapsed": false
   },
   "id": "e5ecf88b454a10b4"
  }
 ],
 "metadata": {
  "kernelspec": {
   "display_name": "Python 3",
   "language": "python",
   "name": "python3"
  },
  "language_info": {
   "codemirror_mode": {
    "name": "ipython",
    "version": 2
   },
   "file_extension": ".py",
   "mimetype": "text/x-python",
   "name": "python",
   "nbconvert_exporter": "python",
   "pygments_lexer": "ipython2",
   "version": "2.7.6"
  }
 },
 "nbformat": 4,
 "nbformat_minor": 5
}
